{
 "cells": [
  {
   "cell_type": "markdown",
   "metadata": {},
   "source": [
    "### Import libraries and data"
   ]
  },
  {
   "cell_type": "code",
   "execution_count": 1,
   "metadata": {},
   "outputs": [],
   "source": [
    "import os\n",
    "import sys\n",
    "import math\n",
    "import numpy as np\n",
    "import pandas as pd\n",
    "from sklearn.datasets import load_iris\n",
    "\n",
    "# system-agnostic utils file import\n",
    "root_dir_path = os.path.dirname(os.path.dirname(os.path.dirname(os.getcwd())))\n",
    "sys.path.append(root_dir_path)"
   ]
  },
  {
   "cell_type": "code",
   "execution_count": 2,
   "metadata": {},
   "outputs": [],
   "source": [
    "import utils"
   ]
  },
  {
   "cell_type": "code",
   "execution_count": 3,
   "metadata": {},
   "outputs": [],
   "source": [
    "# Load the Iris dataset from scikit-learn\n",
    "iris = load_iris()"
   ]
  },
  {
   "cell_type": "markdown",
   "metadata": {},
   "source": [
    "Optionally, store the data as a csv."
   ]
  },
  {
   "cell_type": "code",
   "execution_count": 4,
   "metadata": {},
   "outputs": [
    {
     "data": {
      "text/html": [
       "<div>\n",
       "<style scoped>\n",
       "    .dataframe tbody tr th:only-of-type {\n",
       "        vertical-align: middle;\n",
       "    }\n",
       "\n",
       "    .dataframe tbody tr th {\n",
       "        vertical-align: top;\n",
       "    }\n",
       "\n",
       "    .dataframe thead th {\n",
       "        text-align: right;\n",
       "    }\n",
       "</style>\n",
       "<table border=\"1\" class=\"dataframe\">\n",
       "  <thead>\n",
       "    <tr style=\"text-align: right;\">\n",
       "      <th></th>\n",
       "      <th>sepal length (cm)</th>\n",
       "      <th>sepal width (cm)</th>\n",
       "      <th>petal length (cm)</th>\n",
       "      <th>petal width (cm)</th>\n",
       "      <th>target</th>\n",
       "    </tr>\n",
       "  </thead>\n",
       "  <tbody>\n",
       "    <tr>\n",
       "      <th>62</th>\n",
       "      <td>6.0</td>\n",
       "      <td>2.2</td>\n",
       "      <td>4.0</td>\n",
       "      <td>1.0</td>\n",
       "      <td>1.0</td>\n",
       "    </tr>\n",
       "    <tr>\n",
       "      <th>26</th>\n",
       "      <td>5.0</td>\n",
       "      <td>3.4</td>\n",
       "      <td>1.6</td>\n",
       "      <td>0.4</td>\n",
       "      <td>0.0</td>\n",
       "    </tr>\n",
       "  </tbody>\n",
       "</table>\n",
       "</div>"
      ],
      "text/plain": [
       "    sepal length (cm)  sepal width (cm)  petal length (cm)  petal width (cm)  \\\n",
       "62                6.0               2.2                4.0               1.0   \n",
       "26                5.0               3.4                1.6               0.4   \n",
       "\n",
       "    target  \n",
       "62     1.0  \n",
       "26     0.0  "
      ]
     },
     "execution_count": 4,
     "metadata": {},
     "output_type": "execute_result"
    }
   ],
   "source": [
    "data = np.c_[\n",
    "    iris.data, iris.target\n",
    "]  # Combine the features and target into a single array\n",
    "\n",
    "# convert to df to save on disk\n",
    "columns = iris.feature_names + [\"target\"]\n",
    "df = pd.DataFrame(data, columns=columns)\n",
    "\n",
    "# save to a CSV file\n",
    "df.to_csv(\"iris_dataset.csv\", index=False)\n",
    "df.sample(2)"
   ]
  },
  {
   "cell_type": "markdown",
   "metadata": {},
   "source": [
    "Normalize the data."
   ]
  },
  {
   "cell_type": "code",
   "execution_count": 5,
   "metadata": {},
   "outputs": [
    {
     "data": {
      "text/plain": [
       "array([[0.22222222, 0.625     , 0.06779661, 0.04166667],\n",
       "       [0.16666667, 0.41666666, 0.06779661, 0.04166667],\n",
       "       [0.11111111, 0.5       , 0.05084746, 0.04166667],\n",
       "       [0.08333333, 0.45833333, 0.08474576, 0.04166667],\n",
       "       [0.19444444, 0.66666666, 0.06779661, 0.04166667]])"
      ]
     },
     "execution_count": 5,
     "metadata": {},
     "output_type": "execute_result"
    }
   ],
   "source": [
    "normalized_features = utils.minmax_normalize_2d_array(iris.data)\n",
    "normalized_features[0:5, :]"
   ]
  },
  {
   "cell_type": "code",
   "execution_count": 6,
   "metadata": {},
   "outputs": [],
   "source": [
    "class K_Nearest_Neighbors:\n",
    "    def __init__(self, training_features, training_labels, k=1):\n",
    "        self.k = k\n",
    "        self.training_features = training_features\n",
    "        self.training_labels = training_labels\n",
    "        self.closest_k_training_samples_features = []\n",
    "        self.closest_k_training_samples_targets = []\n",
    "        self.closest_k_training_samples_indices = set()\n",
    "\n",
    "    def fit(self):\n",
    "        \"\"\"\n",
    "        Since kNN is a lazy learner, there is no fit / training step.\n",
    "        \"\"\"\n",
    "        pass\n",
    "\n",
    "    def predict(self, test_sample):\n",
    "        plurality_vote_dictionary = {}\n",
    "        # find the k closest points to the test sample\n",
    "        while len(self.closest_k_training_samples) < self.k:\n",
    "            current_closest_distance = 100000\n",
    "            current_closest_point = None\n",
    "            current_closest_point_index = None\n",
    "\n",
    "            for idx in range(0, len(self.training_features)):\n",
    "                if idx not in self.closest_k_training_samples_indices:\n",
    "                    distance_between_sample_and_test_sample = np.sqrt(\n",
    "                        np.sum((test_sample - self.training_features[idx, :]) ** 2)\n",
    "                    )\n",
    "\n",
    "                    if (\n",
    "                        distance_between_sample_and_test_sample\n",
    "                        < current_closest_distance\n",
    "                    ):\n",
    "                        current_closest_distance = (\n",
    "                            distance_between_sample_and_test_sample\n",
    "                        )\n",
    "                        current_closest_point_features = self.training_features[idx, :]\n",
    "                        current_closest_point_label = self.training_labels[idx]\n",
    "                        current_closest_point_index = idx\n",
    "\n",
    "            # add the closest point of this while loop iteration to the list of k closest points\n",
    "            self.closest_k_training_samples_features.append(\n",
    "                current_closest_point_features\n",
    "            )\n",
    "            self.closest_k_training_samples_targets.append(current_closest_point_label)\n",
    "            # count this sample as a voter in the final voting\n",
    "            if (\n",
    "                self.training_labels[current_closest_point_index]\n",
    "                not in plurality_vote_dictionary\n",
    "            ):\n",
    "                plurality_vote_dictionary[\n",
    "                    self.training_labels[current_closest_point_index]\n",
    "                ] = 1\n",
    "            else:\n",
    "                plurality_vote_dictionary[\n",
    "                    self.training_labels[current_closest_point_index]\n",
    "                ] += 1\n",
    "\n",
    "            # mark this sample's index so as to skip in the next iteration of the while loop\n",
    "            self.closest_k_training_samples_indices.add(current_closest_point_index)\n",
    "\n",
    "            # make prediction for test sample based on the plurality vote from the k closest points\n",
    "            assert len(self.closest_k_training_samples) == self.k\n",
    "\n",
    "            current_mode = 0\n",
    "            prediction = None\n",
    "            for key, val in plurality_vote_dictionary.keys():\n",
    "                if val > current_mode:\n",
    "                    prediction = key\n",
    "\n",
    "            return prediction"
   ]
  },
  {
   "cell_type": "code",
   "execution_count": 8,
   "metadata": {},
   "outputs": [
    {
     "ename": "TypeError",
     "evalue": "unhashable type: 'numpy.ndarray'",
     "output_type": "error",
     "traceback": [
      "\u001b[1;31m---------------------------------------------------------------------------\u001b[0m",
      "\u001b[1;31mTypeError\u001b[0m                                 Traceback (most recent call last)",
      "Cell \u001b[1;32mIn[8], line 2\u001b[0m\n\u001b[0;32m      1\u001b[0m kNN \u001b[39m=\u001b[39m K_Nearest_Neighbors(normalized_features, iris\u001b[39m.\u001b[39mtarget, \u001b[39m10\u001b[39m)\n\u001b[1;32m----> 2\u001b[0m kNN\u001b[39m.\u001b[39;49mpredict(np\u001b[39m.\u001b[39;49marray([\u001b[39m0.5\u001b[39;49m, \u001b[39m0.2\u001b[39;49m, \u001b[39m0.5\u001b[39;49m, \u001b[39m0.7\u001b[39;49m]))\n",
      "Cell \u001b[1;32mIn[6], line 43\u001b[0m, in \u001b[0;36mK_Nearest_Neighbors.predict\u001b[1;34m(self, test_sample)\u001b[0m\n\u001b[0;32m     40\u001b[0m             current_closest_point_index \u001b[39m=\u001b[39m idx\n\u001b[0;32m     42\u001b[0m \u001b[39m# add the closest point of this while loop iteration to the list of k closest points\u001b[39;00m\n\u001b[1;32m---> 43\u001b[0m \u001b[39mself\u001b[39;49m\u001b[39m.\u001b[39;49mclosest_k_training_samples\u001b[39m.\u001b[39;49madd(current_closest_point)\n\u001b[0;32m     44\u001b[0m \u001b[39m# count this sample as a voter in the final voting\u001b[39;00m\n\u001b[0;32m     45\u001b[0m \u001b[39mif\u001b[39;00m (\n\u001b[0;32m     46\u001b[0m     \u001b[39mself\u001b[39m\u001b[39m.\u001b[39mtraining_labels[current_closest_point_index]\n\u001b[0;32m     47\u001b[0m     \u001b[39mnot\u001b[39;00m \u001b[39min\u001b[39;00m plurality_vote_dictionary\n\u001b[0;32m     48\u001b[0m ):\n",
      "\u001b[1;31mTypeError\u001b[0m: unhashable type: 'numpy.ndarray'"
     ]
    }
   ],
   "source": [
    "kNN = K_Nearest_Neighbors(normalized_features, iris.target, 10)\n",
    "kNN.predict(np.array([0.5, 0.2, 0.5, 0.7]))"
   ]
  },
  {
   "cell_type": "code",
   "execution_count": null,
   "metadata": {},
   "outputs": [],
   "source": []
  }
 ],
 "metadata": {
  "kernelspec": {
   "display_name": "Python 3",
   "language": "python",
   "name": "python3"
  },
  "language_info": {
   "codemirror_mode": {
    "name": "ipython",
    "version": 3
   },
   "file_extension": ".py",
   "mimetype": "text/x-python",
   "name": "python",
   "nbconvert_exporter": "python",
   "pygments_lexer": "ipython3",
   "version": "3.9.2rc1"
  },
  "orig_nbformat": 4
 },
 "nbformat": 4,
 "nbformat_minor": 2
}
