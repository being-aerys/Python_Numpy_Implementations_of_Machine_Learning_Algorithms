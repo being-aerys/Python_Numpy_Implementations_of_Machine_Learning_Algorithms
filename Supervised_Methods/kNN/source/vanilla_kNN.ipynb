{
 "cells": [
  {
   "cell_type": "markdown",
   "metadata": {},
   "source": [
    "### Vanilla kNN\n",
    "This notebook implements vanilla kNN to classify handwritten digits available [here](https://archive.ics.uci.edu/dataset/80/optical+recognition+of+handwritten+digits)."
   ]
  },
  {
   "cell_type": "markdown",
   "metadata": {},
   "source": [
    "#### Import libraries and data"
   ]
  },
  {
   "cell_type": "code",
   "execution_count": 1,
   "metadata": {},
   "outputs": [],
   "source": [
    "import os\n",
    "import sys\n",
    "import time\n",
    "\n",
    "import numpy as np\n",
    "import pandas as pd\n",
    "from sklearn.datasets import load_digits\n",
    "from sklearn.model_selection import train_test_split\n",
    "from statistics import mode\n",
    "import matplotlib.pyplot as plt\n",
    "\n",
    "# system-agnostic utils file import\n",
    "root_dir_path = os.path.dirname(os.path.dirname(os.path.dirname(os.getcwd())))\n",
    "sys.path.append(root_dir_path)\n",
    "import utils\n",
    "\n",
    "pd.set_option(\"display.max_colwidth\", None)"
   ]
  },
  {
   "cell_type": "code",
   "execution_count": 2,
   "metadata": {},
   "outputs": [
    {
     "data": {
      "text/plain": [
       "array([[ 0.,  0.,  5., 13., 13.,  8.,  0.,  0.,  0.,  0., 16., 11., 13.,\n",
       "        16.,  6.,  0.,  0.,  1., 16.,  5.,  2., 14.,  9.,  0.,  0.,  0.,\n",
       "         9., 16., 16., 15.,  0.,  0.,  0.,  0., 10., 16., 14., 14.,  0.,\n",
       "         0.,  0.,  5., 15.,  4.,  0., 16.,  6.,  0.,  0.,  6., 14.,  7.,\n",
       "         6., 16.,  4.,  0.,  0.,  0.,  7., 15., 16., 10.,  0.,  0.],\n",
       "       [ 0.,  0.,  3., 14., 16., 14.,  0.,  0.,  0.,  0., 13., 13., 13.,\n",
       "        16.,  2.,  0.,  0.,  0.,  1.,  0.,  9., 15.,  0.,  0.,  0.,  0.,\n",
       "         9., 12., 15., 16., 10.,  0.,  0.,  4., 16., 16., 16., 11.,  3.,\n",
       "         0.,  0.,  0.,  4.,  9., 14.,  2.,  0.,  0.,  0.,  0.,  2., 15.,\n",
       "         9.,  0.,  0.,  0.,  0.,  0.,  4., 13.,  1.,  0.,  0.,  0.]])"
      ]
     },
     "execution_count": 2,
     "metadata": {},
     "output_type": "execute_result"
    }
   ],
   "source": [
    "# load the dataset\n",
    "digits_data = load_digits()\n",
    "X = digits_data.data\n",
    "y = digits_data.target\n",
    "# split the dataset\n",
    "X_train, X_test, y_train, y_test = train_test_split(\n",
    "    X, y, test_size=0.3, random_state=42\n",
    ")\n",
    "X_train[0:2, :]"
   ]
  },
  {
   "cell_type": "code",
   "execution_count": 3,
   "metadata": {},
   "outputs": [
    {
     "name": "stdout",
     "output_type": "stream",
     "text": [
      "0 occurs 125 time(s).\n",
      "1 occurs 132 time(s).\n",
      "2 occurs 130 time(s).\n",
      "3 occurs 129 time(s).\n",
      "4 occurs 121 time(s).\n",
      "5 occurs 116 time(s).\n",
      "6 occurs 128 time(s).\n",
      "7 occurs 124 time(s).\n",
      "8 occurs 131 time(s).\n",
      "9 occurs 121 time(s).\n"
     ]
    }
   ],
   "source": [
    "# unique values and their counts\n",
    "unique_values, counts = np.unique(y_train, return_counts=True)\n",
    "for value, count in zip(unique_values, counts):\n",
    "    print(f\"{value} occurs {count} time(s).\")"
   ]
  },
  {
   "cell_type": "markdown",
   "metadata": {},
   "source": [
    "Scale the training and test data."
   ]
  },
  {
   "cell_type": "code",
   "execution_count": 4,
   "metadata": {},
   "outputs": [
    {
     "data": {
      "text/plain": [
       "array([[0.        , 0.        , 0.3125    , 0.8125    , 0.8125    ,\n",
       "        0.5       , 0.        , 0.        , 0.        , 0.        ,\n",
       "        1.        , 0.6875    , 0.8125    , 1.        , 0.375     ,\n",
       "        0.        , 0.        , 0.0625    , 1.        , 0.3125    ,\n",
       "        0.125     , 0.875     , 0.5625    , 0.        , 0.        ,\n",
       "        0.        , 0.5625    , 1.        , 1.        , 0.9375    ,\n",
       "        0.        , 0.        , 0.        , 0.        , 0.625     ,\n",
       "        1.        , 0.875     , 0.875     , 0.        , 0.        ,\n",
       "        0.        , 0.3125    , 0.9375    , 0.25      , 0.        ,\n",
       "        1.        , 0.375     , 0.        , 0.        , 0.375     ,\n",
       "        0.875     , 0.4375    , 0.375     , 1.        , 0.25      ,\n",
       "        0.        , 0.        , 0.        , 0.4375    , 0.9375    ,\n",
       "        1.        , 0.625     , 0.        , 0.        ],\n",
       "       [0.        , 0.        , 0.1875    , 0.875     , 1.        ,\n",
       "        0.875     , 0.        , 0.        , 0.        , 0.        ,\n",
       "        0.8125    , 0.8125    , 0.8125    , 1.        , 0.125     ,\n",
       "        0.        , 0.        , 0.        , 0.0625    , 0.        ,\n",
       "        0.5625    , 0.9375    , 0.        , 0.        , 0.        ,\n",
       "        0.        , 0.5625    , 0.75      , 0.9375    , 1.        ,\n",
       "        0.66666667, 0.        , 0.        , 0.28571429, 1.        ,\n",
       "        1.        , 1.        , 0.6875    , 0.21428571, 0.        ,\n",
       "        0.        , 0.        , 0.25      , 0.5625    , 0.875     ,\n",
       "        0.125     , 0.        , 0.        , 0.        , 0.        ,\n",
       "        0.125     , 0.9375    , 0.5625    , 0.        , 0.        ,\n",
       "        0.        , 0.        , 0.        , 0.25      , 0.8125    ,\n",
       "        0.0625    , 0.        , 0.        , 0.        ]])"
      ]
     },
     "execution_count": 4,
     "metadata": {},
     "output_type": "execute_result"
    }
   ],
   "source": [
    "normalized_training_features = utils.minmax_normalize_2d_array(X_train)\n",
    "X_train = None\n",
    "normalized_test_features = utils.minmax_normalize_2d_array(X_test)\n",
    "X_test = None\n",
    "normalized_training_features[0:2, :]"
   ]
  },
  {
   "cell_type": "code",
   "execution_count": 5,
   "metadata": {},
   "outputs": [],
   "source": [
    "class K_Nearest_Neighbors:\n",
    "    def __init__(self, training_features, training_labels, k):\n",
    "        \"\"\"\n",
    "        Store the training features and labels.\n",
    "        \"\"\"\n",
    "        self.X_train = training_features\n",
    "        self.y_train = training_labels\n",
    "        self.k = k\n",
    "\n",
    "    def fit(self):\n",
    "        \"\"\"\n",
    "        Since kNN is a lazy learner, there is no fit / training step.\n",
    "        \"\"\"\n",
    "        pass\n",
    "\n",
    "    def predict(self, test_sample):\n",
    "        # first find k nearest samples from the test sample\n",
    "        closest_k_labels = []\n",
    "        closest_k_indices = set()\n",
    "\n",
    "        # iterate over the entire training data over and over until k -nearest not found\n",
    "        iteration = 0\n",
    "        while len(closest_k_labels) < self.k:\n",
    "            iteration += 1\n",
    "            current_closest_distance = 10000  # a large positive value\n",
    "            current_closest_index = None\n",
    "            current_closest_label = None\n",
    "\n",
    "            # for each training sample\n",
    "            for idx, sample in enumerate(self.X_train):\n",
    "                # if not already in the closest-k pool\n",
    "                if idx not in closest_k_indices:\n",
    "                    # calculate the distance between the training sample and the test sample\n",
    "                    curr_euclidean_distance = np.linalg.norm(test_sample - sample)\n",
    "\n",
    "                    if curr_euclidean_distance < current_closest_distance:\n",
    "                        current_closest_distance = curr_euclidean_distance\n",
    "                        current_closest_index = idx\n",
    "                        current_closest_label = y_train[idx]\n",
    "            # store the index of the chosen training sample so that it is ignored in the next iteration of while loop\n",
    "            closest_k_indices.add(current_closest_index)\n",
    "            closest_k_labels.append(current_closest_label)\n",
    "\n",
    "        return mode(closest_k_labels)"
   ]
  },
  {
   "cell_type": "markdown",
   "metadata": {},
   "source": [
    "#### Inference"
   ]
  },
  {
   "cell_type": "code",
   "execution_count": 6,
   "metadata": {},
   "outputs": [
    {
     "name": "stdout",
     "output_type": "stream",
     "text": [
      "For k ==  1 , accuracy:  98.51851851851852 , Time taken:  2.715\n",
      "For k ==  5 , accuracy:  99.07407407407408 , Time taken:  12.057\n",
      "For k ==  10 , accuracy:  97.96296296296296 , Time taken:  21.649\n",
      "For k ==  15 , accuracy:  97.77777777777777 , Time taken:  32.551\n",
      "For k ==  20 , accuracy:  97.4074074074074 , Time taken:  43.075\n",
      "For k ==  25 , accuracy:  96.66666666666667 , Time taken:  54.149\n",
      "For k ==  30 , accuracy:  96.66666666666667 , Time taken:  78.367\n",
      "For k ==  35 , accuracy:  95.74074074074073 , Time taken:  77.928\n",
      "For k ==  40 , accuracy:  95.0 , Time taken:  87.413\n",
      "For k ==  45 , accuracy:  94.44444444444444 , Time taken:  103.512\n",
      "For k ==  50 , accuracy:  93.7037037037037 , Time taken:  118.096\n"
     ]
    }
   ],
   "source": [
    "# predict test samples\n",
    "k_values = [1, 5, 10, 15, 20, 25, 30, 35, 40, 45, 50]\n",
    "accuracies = []\n",
    "time_taken = []\n",
    "for k in k_values:\n",
    "    start_time = time.time()\n",
    "    kNN = K_Nearest_Neighbors(normalized_training_features, y_train, k)\n",
    "    preds = []\n",
    "    for test_sample_idx in range(0, len(y_test)):\n",
    "        prediction = kNN.predict(normalized_test_features[test_sample_idx, :])\n",
    "        preds.append(prediction)\n",
    "    accuracy = utils.calculate_accuracy(y_test, preds)\n",
    "    accuracies.append(accuracy)\n",
    "    time_taken.append(round(time.time() - start_time, 3))\n",
    "    print(\n",
    "        \"For k == \",\n",
    "        k,\n",
    "        \", accuracy: \",\n",
    "        accuracy,\n",
    "        \", Time taken: \",\n",
    "        round(time.time() - start_time, 3),\n",
    "    )"
   ]
  },
  {
   "cell_type": "code",
   "execution_count": 7,
   "metadata": {},
   "outputs": [
    {
     "data": {
      "image/png": "[encoded data removed]",
      "text/plain": [
       "<Figure size 640x480 with 1 Axes>"
      ]
     },
     "metadata": {},
     "output_type": "display_data"
    }
   ],
   "source": [
    "# Plot the accuracies\n",
    "plt.plot(k_values, accuracies, marker=\"o\")\n",
    "plt.xlabel(\"k values\")\n",
    "plt.ylabel(\"Accuracy\")\n",
    "plt.title(\"Accuracy vs. k\")\n",
    "plt.grid(True)\n",
    "plt.show()"
   ]
  },
  {
   "cell_type": "markdown",
   "metadata": {},
   "source": [
    "As seen here, for this particular dataset, the accuracy decreases with an increase in k. However, there is no specific rule on whether the accuracy should increase or decrease with the change in k for kNN algorithms since it is determined by several factors such as proximity of another cluster closeby, number of training samples of a certain class, etc."
   ]
  },
  {
   "cell_type": "markdown",
   "metadata": {},
   "source": [
    "#### Time Taken"
   ]
  },
  {
   "cell_type": "code",
   "execution_count": 8,
   "metadata": {},
   "outputs": [
    {
     "data": {
      "image/png": "[encoded data removed]",
      "text/plain": [
       "<Figure size 640x480 with 1 Axes>"
      ]
     },
     "metadata": {},
     "output_type": "display_data"
    }
   ],
   "source": [
    "# Plot the accuracies\n",
    "plt.plot(k_values, time_taken, marker=\"x\")\n",
    "plt.xlabel(\"k values\")\n",
    "plt.ylabel(\"Time Taken\")\n",
    "plt.title(\"Time Taken vs. k\")\n",
    "plt.grid(True)\n",
    "plt.show()"
   ]
  },
  {
   "cell_type": "markdown",
   "metadata": {},
   "source": [
    "#### Time Complexity of Vanilla kNN and Improvement\n",
    "Given that we know the dimension of each sample in the training set, the Eucledian distance calculation becomes of O(1) time complexity. \n",
    "In the `prediction()` method of kNN above, the while loop runs for `k` times until the closest k training samples are found. For each such iteration of the while loop, the algorithm calculates the distance between the test sample and each of the training samples. Since there are m training samples, assuming the Eucledian distance calculation between two points in feature space of n dimensions is of constant time complexity, the total time complexity of the kNN `prediction()` method becomes O(k * m * 1).<br><br>\n",
    "This time complexity can, however, be improved with the usage of a Priority Queue. The next notebook contains the Priority Queue implementation of kNN."
   ]
  },
  {
   "cell_type": "markdown",
   "metadata": {},
   "source": []
  }
 ],
 "metadata": {
  "kernelspec": {
   "display_name": "Python 3",
   "language": "python",
   "name": "python3"
  },
  "language_info": {
   "codemirror_mode": {
    "name": "ipython",
    "version": 3
   },
   "file_extension": ".py",
   "mimetype": "text/x-python",
   "name": "python",
   "nbconvert_exporter": "python",
   "pygments_lexer": "ipython3",
   "version": "3.9.2"
  },
  "orig_nbformat": 4
 },
 "nbformat": 4,
 "nbformat_minor": 2
}
