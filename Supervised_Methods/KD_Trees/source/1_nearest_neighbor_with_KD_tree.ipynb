{
 "cells": [
  {
   "cell_type": "markdown",
   "metadata": {},
   "source": [
    "## 1-Nearest Neighbor with KD Tree\n",
    "This notebook implements vanilla 1-NN to classify handwritten digits available [here](https://archive.ics.uci.edu/dataset/80/optical+recognition+of+handwritten+digits) using a KD Tree."
   ]
  },
  {
   "cell_type": "markdown",
   "metadata": {},
   "source": [
    "#### Import libraries and data"
   ]
  },
  {
   "cell_type": "code",
   "execution_count": 66,
   "metadata": {},
   "outputs": [],
   "source": [
    "import os\n",
    "import sys\n",
    "import time\n",
    "\n",
    "import numpy as np\n",
    "import pandas as pd\n",
    "from sklearn.datasets import load_digits, load_iris\n",
    "from sklearn.model_selection import train_test_split\n",
    "from statistics import mode\n",
    "import matplotlib.pyplot as plt\n",
    "\n",
    "# system-agnostic utils file import\n",
    "root_dir_path = os.path.dirname(os.path.dirname(os.path.dirname(os.getcwd())))\n",
    "sys.path.append(root_dir_path)\n",
    "import utils\n",
    "\n",
    "pd.set_option(\"display.max_colwidth\", None)"
   ]
  },
  {
   "cell_type": "code",
   "execution_count": 67,
   "metadata": {},
   "outputs": [
    {
     "data": {
      "text/plain": [
       "array([[5.5, 2.4, 3.7, 1. ],\n",
       "       [6.3, 2.8, 5.1, 1.5]])"
      ]
     },
     "execution_count": 67,
     "metadata": {},
     "output_type": "execute_result"
    }
   ],
   "source": [
    "# load the dataset\n",
    "# digits_data = load_digits()\n",
    "digits_data = load_iris()\n",
    "X = digits_data.data\n",
    "y = digits_data.target\n",
    "# split the dataset\n",
    "X_train, X_test, y_train, y_test = train_test_split(\n",
    "    X, y, test_size=0.3, random_state=42\n",
    ")\n",
    "X_train[0:2, :]"
   ]
  },
  {
   "cell_type": "code",
   "execution_count": 68,
   "metadata": {},
   "outputs": [
    {
     "data": {
      "text/plain": [
       "(105, 4)"
      ]
     },
     "execution_count": 68,
     "metadata": {},
     "output_type": "execute_result"
    }
   ],
   "source": [
    "X_train.shape"
   ]
  },
  {
   "cell_type": "code",
   "execution_count": 69,
   "metadata": {},
   "outputs": [
    {
     "name": "stdout",
     "output_type": "stream",
     "text": [
      "0 occurs 31 time(s).\n",
      "1 occurs 37 time(s).\n",
      "2 occurs 37 time(s).\n"
     ]
    }
   ],
   "source": [
    "# unique values and their counts\n",
    "unique_values, counts = np.unique(y_train, return_counts=True)\n",
    "for value, count in zip(unique_values, counts):\n",
    "    print(f\"{value} occurs {count} time(s).\")"
   ]
  },
  {
   "cell_type": "markdown",
   "metadata": {},
   "source": [
    "Scale the training and test data."
   ]
  },
  {
   "cell_type": "code",
   "execution_count": 70,
   "metadata": {},
   "outputs": [
    {
     "data": {
      "text/plain": [
       "array([[0.35294118, 0.18181818, 0.46428571, 0.375     ],\n",
       "       [0.58823529, 0.36363636, 0.71428571, 0.58333333]])"
      ]
     },
     "execution_count": 70,
     "metadata": {},
     "output_type": "execute_result"
    }
   ],
   "source": [
    "normalized_training_features = utils.minmax_normalize_2d_array(X_train)\n",
    "X_train = None\n",
    "normalized_test_features = utils.minmax_normalize_2d_array(X_test)\n",
    "X_test = None\n",
    "normalized_training_features[0:2, :]"
   ]
  },
  {
   "cell_type": "code",
   "execution_count": 136,
   "metadata": {},
   "outputs": [],
   "source": [
    "# TODO remove after testing\n",
    "normalized_training_features = normalized_training_features[0:10, :]\n",
    "\n",
    "\n",
    "class Tree_Node:\n",
    "    def __init__(self, indices, depth):\n",
    "        self.valid_indices = indices\n",
    "        self.depth = depth\n",
    "        self.median = np.median(\n",
    "            normalized_training_features[\n",
    "                indices, self.depth % normalized_training_features.shape[1]\n",
    "            ]\n",
    "        )\n",
    "        self.left_child_node = None\n",
    "        self.right_child = None\n",
    "\n",
    "    def build_KD_tree(self):\n",
    "        if len(self.valid_indices) == 1:\n",
    "            # current node is a leaf node\n",
    "            pass\n",
    "        else:\n",
    "            # create left subtree\n",
    "            left_subtree_indices = np.where(\n",
    "                normalized_training_features[\n",
    "                    self.valid_indices,\n",
    "                    self.depth % normalized_training_features.shape[1],\n",
    "                ]\n",
    "                <= self.median\n",
    "            )\n",
    "\n",
    "            if len(left_subtree_indices[0]) > 0:\n",
    "                self.left_child_node = Tree_Node(\n",
    "                    left_subtree_indices[0], self.depth + 1\n",
    "                )\n",
    "                self.left_child_node.build_KD_tree()\n",
    "            else:\n",
    "                # No element left for left subtree\n",
    "                pass\n",
    "            # create right subtree\n",
    "            right_subtree_indices = np.where(\n",
    "                normalized_training_features[\n",
    "                    self.valid_indices,\n",
    "                    self.depth % normalized_training_features.shape[1],\n",
    "                ]\n",
    "                > self.median\n",
    "            )\n",
    "            if len(right_subtree_indices[0]) > 0:\n",
    "                self.right_child_node = Tree_Node(\n",
    "                    right_subtree_indices[0], self.depth + 1\n",
    "                )\n",
    "                self.right_child_node.build_KD_tree()\n",
    "            else:\n",
    "                # No element left for right subtree\n",
    "                pass"
   ]
  },
  {
   "cell_type": "code",
   "execution_count": 137,
   "metadata": {},
   "outputs": [
    {
     "name": "stdout",
     "output_type": "stream",
     "text": [
      "split feature num  0\n",
      "median  0.602941174697232\n",
      "Depth:  0\n",
      "self.valid_indices  [0, 1, 2, 3, 4, 5, 6, 7, 8, 9]\n",
      "left subtree indices  (array([0, 1, 5, 7, 8], dtype=int64),)\n",
      "5\n",
      "Left Child\n",
      "split feature num  1\n",
      "median  0.4090909072314049\n",
      "Depth:  1\n",
      "self.valid_indices  [0 1 5 7 8]\n",
      "left subtree indices  (array([0, 1, 2], dtype=int64),)\n",
      "3\n",
      "Left Child\n",
      "split feature num  2\n",
      "median  0.714285713010204\n",
      "Depth:  2\n",
      "self.valid_indices  [0 1 2]\n",
      "left subtree indices  (array([0, 1], dtype=int64),)\n",
      "2\n",
      "Left Child\n",
      "split feature num  3\n",
      "median  0.4791666646701389\n",
      "Depth:  3\n",
      "self.valid_indices  [0 1]\n",
      "left subtree indices  (array([0], dtype=int64),)\n",
      "1\n",
      "Left Child\n",
      "split feature num  0\n",
      "median  0.35294117543252596\n",
      "Depth:  4\n",
      "self.valid_indices  [0]\n",
      "Leaf node reached.\n",
      "right subtree indices  (array([1], dtype=int64),)\n",
      "Right Child\n",
      "split feature num  0\n",
      "median  0.5882352923875432\n",
      "Depth:  4\n",
      "self.valid_indices  [1]\n",
      "Leaf node reached.\n",
      "right subtree indices  (array([2], dtype=int64),)\n",
      "Right Child\n",
      "split feature num  3\n",
      "median  0.7083333303819445\n",
      "Depth:  3\n",
      "self.valid_indices  [2]\n",
      "Leaf node reached.\n",
      "right subtree indices  (array([3, 4], dtype=int64),)\n",
      "Right Child\n",
      "split feature num  2\n",
      "median  0.7410714272480868\n",
      "Depth:  2\n",
      "self.valid_indices  [3 4]\n",
      "left subtree indices  (array([0], dtype=int64),)\n",
      "1\n",
      "Left Child\n",
      "split feature num  3\n",
      "median  0.37499999843750004\n",
      "Depth:  3\n",
      "self.valid_indices  [0]\n",
      "Leaf node reached.\n",
      "right subtree indices  (array([1], dtype=int64),)\n",
      "Right Child\n",
      "split feature num  3\n",
      "median  0.5833333309027778\n",
      "Depth:  3\n",
      "self.valid_indices  [1]\n",
      "Leaf node reached.\n",
      "right subtree indices  (array([2, 3, 4, 6, 9], dtype=int64),)\n",
      "Right Child\n",
      "split feature num  1\n",
      "median  0.4545454524793388\n",
      "Depth:  1\n",
      "self.valid_indices  [2 3 4 6 9]\n",
      "left subtree indices  (array([1, 3, 4], dtype=int64),)\n",
      "3\n",
      "Left Child\n",
      "split feature num  2\n",
      "median  0.714285713010204\n",
      "Depth:  2\n",
      "self.valid_indices  [1 3 4]\n",
      "left subtree indices  (array([0, 1], dtype=int64),)\n",
      "2\n",
      "Left Child\n",
      "split feature num  3\n",
      "median  0.4791666646701389\n",
      "Depth:  3\n",
      "self.valid_indices  [0 1]\n",
      "left subtree indices  (array([0], dtype=int64),)\n",
      "1\n",
      "Left Child\n",
      "split feature num  0\n",
      "median  0.35294117543252596\n",
      "Depth:  4\n",
      "self.valid_indices  [0]\n",
      "Leaf node reached.\n",
      "right subtree indices  (array([1], dtype=int64),)\n",
      "Right Child\n",
      "split feature num  0\n",
      "median  0.5882352923875432\n",
      "Depth:  4\n",
      "self.valid_indices  [1]\n",
      "Leaf node reached.\n",
      "right subtree indices  (array([2], dtype=int64),)\n",
      "Right Child\n",
      "split feature num  3\n",
      "median  0.7083333303819445\n",
      "Depth:  3\n",
      "self.valid_indices  [2]\n",
      "Leaf node reached.\n",
      "right subtree indices  (array([0, 2], dtype=int64),)\n",
      "Right Child\n",
      "split feature num  2\n",
      "median  0.6249999988839287\n",
      "Depth:  2\n",
      "self.valid_indices  [0 2]\n",
      "left subtree indices  (array([0], dtype=int64),)\n",
      "1\n",
      "Left Child\n",
      "split feature num  3\n",
      "median  0.37499999843750004\n",
      "Depth:  3\n",
      "self.valid_indices  [0]\n",
      "Leaf node reached.\n",
      "right subtree indices  (array([1], dtype=int64),)\n",
      "Right Child\n",
      "split feature num  3\n",
      "median  0.5833333309027778\n",
      "Depth:  3\n",
      "self.valid_indices  [1]\n",
      "Leaf node reached.\n"
     ]
    }
   ],
   "source": [
    "KD_tree = Tree_Node([x for x in range(normalized_training_features.shape[0])], 0)\n",
    "KD_tree.build_KD_tree()"
   ]
  },
  {
   "cell_type": "code",
   "execution_count": null,
   "metadata": {},
   "outputs": [],
   "source": []
  }
 ],
 "metadata": {
  "kernelspec": {
   "display_name": ".venv",
   "language": "python",
   "name": "python3"
  },
  "language_info": {
   "codemirror_mode": {
    "name": "ipython",
    "version": 3
   },
   "file_extension": ".py",
   "mimetype": "text/x-python",
   "name": "python",
   "nbconvert_exporter": "python",
   "pygments_lexer": "ipython3",
   "version": "3.9.2rc1"
  },
  "orig_nbformat": 4
 },
 "nbformat": 4,
 "nbformat_minor": 2
}
