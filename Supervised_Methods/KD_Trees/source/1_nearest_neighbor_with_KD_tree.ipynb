{
 "cells": [
  {
   "cell_type": "markdown",
   "metadata": {},
   "source": [
    "## 1-Nearest Neighbor with KD Tree\n",
    "This notebook implements vanilla 1-NN to classify Iris dataset available [here](https://archive.ics.uci.edu/dataset/53/iris) using a KD Tree."
   ]
  },
  {
   "cell_type": "markdown",
   "metadata": {},
   "source": [
    "#### Import libraries and data"
   ]
  },
  {
   "cell_type": "code",
   "execution_count": 62,
   "metadata": {},
   "outputs": [],
   "source": [
    "import os\n",
    "import sys\n",
    "import time\n",
    "from math import floor\n",
    "\n",
    "import numpy as np\n",
    "import pandas as pd\n",
    "from sklearn.datasets import load_iris\n",
    "from sklearn.model_selection import train_test_split\n",
    "from statistics import mode\n",
    "import matplotlib.pyplot as plt\n",
    "\n",
    "# system-agnostic utils file import\n",
    "root_dir_path = os.path.dirname(os.path.dirname(os.path.dirname(os.getcwd())))\n",
    "sys.path.append(root_dir_path)\n",
    "import utils\n",
    "\n",
    "pd.set_option(\"display.max_colwidth\", None)"
   ]
  },
  {
   "cell_type": "code",
   "execution_count": 63,
   "metadata": {},
   "outputs": [
    {
     "data": {
      "text/plain": [
       "array([[5.5, 2.4, 3.7, 1. ],\n",
       "       [6.3, 2.8, 5.1, 1.5]])"
      ]
     },
     "execution_count": 63,
     "metadata": {},
     "output_type": "execute_result"
    }
   ],
   "source": [
    "# load the dataset\n",
    "iris_data = load_iris()\n",
    "X = iris_data.data\n",
    "y = iris_data.target\n",
    "# split the dataset\n",
    "X_train, X_test, y_train, y_test = train_test_split(\n",
    "    X, y, test_size=0.3, random_state=42\n",
    ")\n",
    "X_train[0:2, :]"
   ]
  },
  {
   "cell_type": "code",
   "execution_count": 64,
   "metadata": {},
   "outputs": [
    {
     "data": {
      "text/plain": [
       "(105, 4)"
      ]
     },
     "execution_count": 64,
     "metadata": {},
     "output_type": "execute_result"
    }
   ],
   "source": [
    "X_train.shape"
   ]
  },
  {
   "cell_type": "code",
   "execution_count": 65,
   "metadata": {},
   "outputs": [
    {
     "name": "stdout",
     "output_type": "stream",
     "text": [
      "0 occurs 31 time(s).\n",
      "1 occurs 37 time(s).\n",
      "2 occurs 37 time(s).\n"
     ]
    }
   ],
   "source": [
    "# unique values and their counts\n",
    "unique_values, counts = np.unique(y_train, return_counts=True)\n",
    "for value, count in zip(unique_values, counts):\n",
    "    print(f\"{value} occurs {count} time(s).\")"
   ]
  },
  {
   "cell_type": "markdown",
   "metadata": {},
   "source": [
    "Scale the training and test data."
   ]
  },
  {
   "cell_type": "code",
   "execution_count": 66,
   "metadata": {},
   "outputs": [
    {
     "data": {
      "text/plain": [
       "array([[0.35294118, 0.18181818, 0.46428571, 0.375     ],\n",
       "       [0.58823529, 0.36363636, 0.71428571, 0.58333333]])"
      ]
     },
     "execution_count": 66,
     "metadata": {},
     "output_type": "execute_result"
    }
   ],
   "source": [
    "normalized_training_features = utils.minmax_normalize_2d_array(X_train)\n",
    "X_train = None\n",
    "normalized_test_features = utils.minmax_normalize_2d_array(X_test)\n",
    "X_test = None\n",
    "normalized_training_features[0:2, :]"
   ]
  },
  {
   "cell_type": "code",
   "execution_count": 67,
   "metadata": {},
   "outputs": [],
   "source": [
    "# TODO remove later\n",
    "# use 10 tr samples and 2 feature dimensions, remove after testing\n",
    "# normalized_training_features = normalized_training_features[0:10, 0:2]\n",
    "\n",
    "normalized_training_features = np.array(\n",
    "    [[2, 3], [4, 7], [7, 2], [5, 4], [9, 6], [8, 1]]\n",
    ")\n",
    "training_labels = [1, 1, 2, 1, 2, 2]\n",
    "\n",
    "\n",
    "class Tree_Node:\n",
    "    def __init__(self, X, depth):\n",
    "        self.X = X\n",
    "        self.left = None\n",
    "        self.right = None\n",
    "        self.depth = depth\n",
    "        self.median_idx = None\n",
    "        self.sample = None\n",
    "        self.feature_idx_to_split = None\n",
    "        pass\n",
    "\n",
    "    def build_Kd_tree(self):\n",
    "        \"\"\"Builds a Kd tree rooted at this node.\"\"\"\n",
    "\n",
    "        # check if the current node is a leaf node\n",
    "        if len(self.X) == 1:\n",
    "            self.sample = self.X[0, :]\n",
    "            print(\"Leaf node reached. Sample at node: \", self.sample)\n",
    "        else:\n",
    "            # find out the feature to calculate median\n",
    "            self.feature_idx_to_split = self.depth % (len(self.X[0]))\n",
    "            # find median by sorting the tr samples  along feature\n",
    "            self.X = self.X[self.X[:, self.feature_idx_to_split].argsort()]\n",
    "            if len(self.X) % 2 == 0:\n",
    "                self.median_idx = int((len(self.X) / 2))\n",
    "            else:\n",
    "                self.median_idx = floor((len(self.X) / 2))\n",
    "\n",
    "            # store the median point\n",
    "            self.sample = self.X[self.median_idx, :]\n",
    "            # separate left and right points\n",
    "            left_points = self.X[0 : self.median_idx, :]\n",
    "            right_points = self.X[self.median_idx + 1 :, :]\n",
    "            # create KD subtrees' nodes from the left and the right points\n",
    "            if len(left_points) == 0:\n",
    "                self.left = None\n",
    "            else:\n",
    "                self.left = Tree_Node(left_points, self.depth + 1)\n",
    "                # build KD subtrees\n",
    "                self.left.build_Kd_tree()\n",
    "            if len(right_points) == 0:\n",
    "                self.right = None\n",
    "            else:\n",
    "                self.right = Tree_Node(right_points, self.depth + 1)\n",
    "                # build KD subtree\n",
    "                self.right.build_Kd_tree()"
   ]
  },
  {
   "cell_type": "code",
   "execution_count": 68,
   "metadata": {},
   "outputs": [
    {
     "data": {
      "text/plain": [
       "array([[0.35294118, 0.18181818],\n",
       "       [0.58823529, 0.36363636],\n",
       "       [0.61764706, 0.5       ],\n",
       "       [0.67647059, 0.45454545],\n",
       "       [0.85294117, 0.72727272],\n",
       "       [0.4117647 , 0.40909091],\n",
       "       [0.97058823, 0.45454545],\n",
       "       [0.38235294, 0.45454545],\n",
       "       [0.23529412, 0.68181818],\n",
       "       [1.        , 0.36363636]])"
      ]
     },
     "execution_count": 68,
     "metadata": {},
     "output_type": "execute_result"
    }
   ],
   "source": [
    "normalized_training_features"
   ]
  },
  {
   "cell_type": "code",
   "execution_count": 69,
   "metadata": {},
   "outputs": [
    {
     "name": "stdout",
     "output_type": "stream",
     "text": [
      "Leaf node reached. Sample at node:  [0.35294118 0.18181818]\n",
      "Leaf node reached. Sample at node:  [0.23529412 0.68181818]\n",
      "Leaf node reached. Sample at node:  [0.67647059 0.45454545]\n",
      "Leaf node reached. Sample at node:  [0.85294117 0.72727272]\n"
     ]
    }
   ],
   "source": [
    "KD_tree = Tree_Node(normalized_training_features, 0)\n",
    "KD_tree.build_Kd_tree()"
   ]
  },
  {
   "cell_type": "markdown",
   "metadata": {},
   "source": [
    "# TODO\n",
    "address why kd tree construction fails when using handwritten digits data with all samples' first pixel equal to 0."
   ]
  },
  {
   "cell_type": "markdown",
   "metadata": {},
   "source": []
  }
 ],
 "metadata": {
  "kernelspec": {
   "display_name": ".venv",
   "language": "python",
   "name": "python3"
  },
  "language_info": {
   "codemirror_mode": {
    "name": "ipython",
    "version": 3
   },
   "file_extension": ".py",
   "mimetype": "text/x-python",
   "name": "python",
   "nbconvert_exporter": "python",
   "pygments_lexer": "ipython3",
   "version": "3.9.2rc1"
  },
  "orig_nbformat": 4
 },
 "nbformat": 4,
 "nbformat_minor": 2
}
